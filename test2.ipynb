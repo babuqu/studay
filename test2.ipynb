{
  "nbformat": 4,
  "nbformat_minor": 0,
  "metadata": {
    "colab": {
      "name": "test2.ipynb",
      "provenance": [],
      "collapsed_sections": [],
      "authorship_tag": "ABX9TyM58/PDfEDYjp5PrJKKdGDv",
      "include_colab_link": true
    },
    "kernelspec": {
      "name": "python3",
      "display_name": "Python 3"
    },
    "language_info": {
      "name": "python"
    }
  },
  "cells": [
    {
      "cell_type": "markdown",
      "metadata": {
        "id": "view-in-github",
        "colab_type": "text"
      },
      "source": [
        "<a href=\"https://colab.research.google.com/github/babuqu/studay/blob/gh-pages/test2.ipynb\" target=\"_parent\"><img src=\"https://colab.research.google.com/assets/colab-badge.svg\" alt=\"Open In Colab\"/></a>"
      ]
    },
    {
      "cell_type": "code",
      "metadata": {
        "colab": {
          "base_uri": "https://localhost:8080/"
        },
        "id": "yOdRlBBcCgLo",
        "outputId": "610c5eb2-f194-4b80-87b9-32705333a9af"
      },
      "source": [
        "import matplotlib.pyplot as plt\n",
        "#文件和目录库\n",
        "import os\n",
        "#字符操作库\n",
        "import re\n",
        "#文件的拷贝与移动\n",
        "import shutil\n",
        "import string\n",
        "import tensorflow as tf\n",
        "\n",
        "from tensorflow.keras import layers\n",
        "from tensorflow.keras import losses\n",
        "#数据预处理\n",
        "from tensorflow.keras import preprocessing\n",
        "#TextVectorization层可直接将文本字符串作为模型输入\n",
        "from tensorflow.keras.layers.experimental.preprocessing import TextVectorization\n",
        "print(tf.__version__)"
      ],
      "execution_count": 31,
      "outputs": [
        {
          "output_type": "stream",
          "text": [
            "2.6.0\n"
          ],
          "name": "stdout"
        }
      ]
    },
    {
      "cell_type": "code",
      "metadata": {
        "id": "vdwBOS-bIINh"
      },
      "source": [
        ""
      ],
      "execution_count": 31,
      "outputs": []
    },
    {
      "cell_type": "markdown",
      "metadata": {
        "id": "ZPNEZyssHC-a"
      },
      "source": [
        "下载数据集"
      ]
    },
    {
      "cell_type": "markdown",
      "metadata": {
        "id": "Zpbw8x3gH-XO"
      },
      "source": [
        "tf.keras.utils.get_file(\n",
        "    fname, origin, untar=False, md5_hash=None, \n",
        "    file_hash=None,cache_subdir='datasets', \n",
        "    hash_algorithm='auto', extract=False,\n",
        "    archive_format='auto', cache_dir=None\n",
        ")\n",
        "##参数说明\n",
        "--\n",
        "--fname：文件名，如果指定了绝对路径\"/path/to/file.txt\",则文件将会保存到该位置\n",
        "\n",
        "--origin：文件的URL\n",
        "\n",
        "--untar：boolean，文件是否需要解压缩\n",
        "\n",
        "md5_hash：MD5哈希值,用于数据校验，支持sha256和md5哈希\n",
        "\n",
        "--cache_subdir：用于缓存数据的文件夹，若指定绝对路径\"/path/to/folder\"则将存放在该路径下\n",
        "\n",
        "hash_algorithm：选择文件校验的哈希算法，可选项有'md5', 'sha256', 和'auto'. \n",
        "默认'auto'自动检测使用的哈希算法\n",
        "\n",
        "extract：若为True则试图提取文件，例如tar或zip \n",
        "\n",
        "archive_format：试图提取的文件格式，可选为'auto', 'tar', 'zip', \n",
        "和None. 'tar' 包括tar, tar.gz, tar.bz文件. 默认'auto'是['tar', 'zip']. None或空列表将返回没有匹配\n",
        "\n",
        "--cache_dir：文件缓存后的地址，若为None，则默认存放在根目录的.keras文件夹中\n",
        "\n"
      ]
    },
    {
      "cell_type": "markdown",
      "metadata": {
        "id": "6APr3YdBJRLA"
      },
      "source": [
        "**os.path.join()函数：连接两个或更多的路径名组件**\n",
        "\n",
        " 1.如果各组件名首字母不包含’/’，则函数会自动加上\n",
        "\n",
        "　2.如果有一个组件是一个绝对路径，则在它之前的所有组件均会被舍弃\n",
        "\n",
        "　3.如果最后一个组件为空，则生成的路径以一个’/’分隔符结尾"
      ]
    },
    {
      "cell_type": "code",
      "metadata": {
        "id": "HYkHI41dHMq6"
      },
      "source": [
        "url = \"https://ai.stanford.edu/~amaas/data/sentiment/aclImdb_v1.tar.gz\"\n",
        "\n",
        "dataset = tf.keras.utils.get_file(\"aclImdb_v1\", url,\n",
        "                  untar=True, cache_dir='.',\n",
        "                  cache_subdir='')\n",
        "\n",
        "dataset_dir = os.path.join(os.path.dirname(dataset), 'aclImdb')"
      ],
      "execution_count": 32,
      "outputs": []
    },
    {
      "cell_type": "code",
      "metadata": {
        "colab": {
          "base_uri": "https://localhost:8080/"
        },
        "id": "VA7GzyuWK0a9",
        "outputId": "a508efbd-640a-424a-964a-1b38770f9edd"
      },
      "source": [
        "os.listdir(dataset_dir)"
      ],
      "execution_count": 33,
      "outputs": [
        {
          "output_type": "execute_result",
          "data": {
            "text/plain": [
              "['imdbEr.txt', 'test', 'README', 'train', 'imdb.vocab']"
            ]
          },
          "metadata": {},
          "execution_count": 33
        }
      ]
    },
    {
      "cell_type": "code",
      "metadata": {
        "colab": {
          "base_uri": "https://localhost:8080/"
        },
        "id": "HGaDckVNMrLc",
        "outputId": "09eccfbb-c6cf-40ac-81a0-954ab7d9c74f"
      },
      "source": [
        "train_dir = os.path.join(dataset_dir, 'train')\n",
        "os.listdir(train_dir)"
      ],
      "execution_count": 34,
      "outputs": [
        {
          "output_type": "execute_result",
          "data": {
            "text/plain": [
              "['urls_unsup.txt',\n",
              " 'urls_neg.txt',\n",
              " 'unsupBow.feat',\n",
              " 'urls_pos.txt',\n",
              " 'unsup',\n",
              " 'labeledBow.feat',\n",
              " 'pos',\n",
              " 'neg']"
            ]
          },
          "metadata": {},
          "execution_count": 34
        }
      ]
    },
    {
      "cell_type": "code",
      "metadata": {
        "colab": {
          "base_uri": "https://localhost:8080/"
        },
        "id": "Hr21MOxbPFHx",
        "outputId": "7e46a04f-18f4-4d6c-9265-090695a26c34"
      },
      "source": [
        "sample_file = os.path.join(train_dir, 'pos/1181_9.txt')\n",
        "with open(sample_file) as f:\n",
        "  print(f.read())"
      ],
      "execution_count": 35,
      "outputs": [
        {
          "output_type": "stream",
          "text": [
            "Rachel Griffiths writes and directs this award winning short film. A heartwarming story about coping with grief and cherishing the memory of those we've loved and lost. Although, only 15 minutes long, Griffiths manages to capture so much emotion and truth onto film in the short space of time. Bud Tingwell gives a touching performance as Will, a widower struggling to cope with his wife's death. Will is confronted by the harsh reality of loneliness and helplessness as he proceeds to take care of Ruth's pet cow, Tulip. The film displays the grief and responsibility one feels for those they have loved and lost. Good cinematography, great direction, and superbly acted. It will bring tears to all those who have lost a loved one, and survived.\n"
          ],
          "name": "stdout"
        }
      ]
    },
    {
      "cell_type": "markdown",
      "metadata": {
        "id": "fWFHV1ofR5lu"
      },
      "source": [
        "tf.keras.preprocessing.text_dataset_from_directory(\n",
        "    directory, labels='inferred', label_mode='int', class_names=None, batch_size=32,\n",
        "    max_length=None, shuffle=True, seed=None, validation_split=None, subset=None,\n",
        "    follow_links=False\n",
        ")\n",
        "##从目录中的文本文件生成一个tf.data.Dataset\n",
        "###directory\t\n",
        "数据所在的目录。如果labels是“推断”，它应该包含子目录，每个子目录包含一个类的文本文件。否则，目录结构将被忽略\n",
        "###labels\t\n",
        "“推断”（标签是从目录结构生成的），或与目录中找到的文本文件数量相同大小的整数标签列表/元组。标签应根据文本文件路径的字母数字顺序进行排序（通过Python获得）。 os.walk(directory)\n",
        "###label_mode\t\n",
        "1. 'int'：意味着标签被编码为整数（例如对于sparse_categorical_crossentropy损失）。\n",
        "2. 'categorical' 意味着标签被编码为一个分类向量（例如对于categorical_crossentropy损失）。\n",
        "3. 'binary' 意味着标签（只能有 2 个）被编码为float32值为 0 或 1（例如 for binary_crossentropy）的标量。\n",
        "4. 无（无标签）。\n",
        "###class_names\n",
        "仅当“标签”为“推断”时才有效。这是类名的显式列表（必须与子目录的名称匹配）。用于控制类的顺序（否则使用字母数字顺序）\n",
        "###batch_size\t\n",
        "批量数据的大小。默认值：32。\n",
        "###max_length\t\n",
        "文本字符串的最大大小。超过此长度的文本将被截断为. max_length\n",
        "###shuffle\n",
        "是否打乱数据。默认值：真。如果设置为 False，则按字母数字顺序对数据进行排序。\n",
        "###seed\t\n",
        "用于改组和转换的可选随机种子。\n",
        "###validation_split\n",
        "0 到 1 之间的可选浮点数，保留用于验证的数据的一部分。\n",
        "###subset\t\n",
        "“培训”或“验证”之一。仅在设置时使用。 validation_split\n",
        "###follow_links\t\n",
        "是否访问符号链接指向的子目录。默认为假。\n",
        "\n",
        "\n",
        "\n",
        "\n",
        "\n",
        "\n",
        "\n"
      ]
    },
    {
      "cell_type": "code",
      "metadata": {
        "id": "VvXNRhrsMXA9"
      },
      "source": [
        "#于 IMDB 数据集包含其他文件夹，您将在使用此实用程序之前将其删除。\n",
        "remove_dir = os.path.join(train_dir, 'unsup')\n",
        "shutil.rmtree(remove_dir)"
      ],
      "execution_count": 36,
      "outputs": []
    },
    {
      "cell_type": "code",
      "metadata": {
        "id": "BRevqmuiM0Bl"
      },
      "source": [
        ""
      ],
      "execution_count": 36,
      "outputs": []
    },
    {
      "cell_type": "code",
      "metadata": {
        "colab": {
          "base_uri": "https://localhost:8080/"
        },
        "id": "jm-_Za2nPt-w",
        "outputId": "58b069ad-9202-4a89-afa7-041db0d32db7"
      },
      "source": [
        "batch_size = 32\n",
        "seed = 42\n",
        "\n",
        "raw_train_ds = tf.keras.preprocessing.text_dataset_from_directory(\n",
        "    'aclImdb/train', #数据所在目录\n",
        "    batch_size=batch_size, #批量数据的大小\n",
        "    validation_split=0.2, #保留用于验证的数据的一部分\n",
        "    subset='training', #设置训练\n",
        "    seed=seed)"
      ],
      "execution_count": 37,
      "outputs": [
        {
          "output_type": "stream",
          "text": [
            "Found 25000 files belonging to 2 classes.\n",
            "Using 20000 files for training.\n"
          ],
          "name": "stdout"
        }
      ]
    },
    {
      "cell_type": "code",
      "metadata": {
        "colab": {
          "base_uri": "https://localhost:8080/"
        },
        "id": "vyGRwdzkVUsT",
        "outputId": "27b4651d-f13b-48a6-993e-8de9b53529a4"
      },
      "source": [
        "for text_batch, label_batch in raw_train_ds.take(1):\n",
        "  for i in range(3):\n",
        "    print(\"Review\", text_batch.numpy()[i])\n",
        "    print(\"Label\", label_batch.numpy()[i])"
      ],
      "execution_count": 38,
      "outputs": [
        {
          "output_type": "stream",
          "text": [
            "Review b'\"Pandemonium\" is a horror movie spoof that comes off more stupid than funny. Believe me when I tell you, I love comedies. Especially comedy spoofs. \"Airplane\", \"The Naked Gun\" trilogy, \"Blazing Saddles\", \"High Anxiety\", and \"Spaceballs\" are some of my favorite comedies that spoof a particular genre. \"Pandemonium\" is not up there with those films. Most of the scenes in this movie had me sitting there in stunned silence because the movie wasn\\'t all that funny. There are a few laughs in the film, but when you watch a comedy, you expect to laugh a lot more than a few times and that\\'s all this film has going for it. Geez, \"Scream\" had more laughs than this film and that was more of a horror film. How bizarre is that?<br /><br />*1/2 (out of four)'\n",
            "Label 0\n",
            "Review b\"David Mamet is a very interesting and a very un-equal director. His first movie 'House of Games' was the one I liked best, and it set a series of films with characters whose perspective of life changes as they get into complicated situations, and so does the perspective of the viewer.<br /><br />So is 'Homicide' which from the title tries to set the mind of the viewer to the usual crime drama. The principal characters are two cops, one Jewish and one Irish who deal with a racially charged area. The murder of an old Jewish shop owner who proves to be an ancient veteran of the Israeli Independence war triggers the Jewish identity in the mind and heart of the Jewish detective.<br /><br />This is were the flaws of the film are the more obvious. The process of awakening is theatrical and hard to believe, the group of Jewish militants is operatic, and the way the detective eventually walks to the final violent confrontation is pathetic. The end of the film itself is Mamet-like smart, but disappoints from a human emotional perspective.<br /><br />Joe Mantegna and William Macy give strong performances, but the flaws of the story are too evident to be easily compensated.\"\n",
            "Label 0\n",
            "Review b'Great documentary about the lives of NY firefighters during the worst terrorist attack of all time.. That reason alone is why this should be a must see collectors item.. What shocked me was not only the attacks, but the\"High Fat Diet\" and physical appearance of some of these firefighters. I think a lot of Doctors would agree with me that,in the physical shape they were in, some of these firefighters would NOT of made it to the 79th floor carrying over 60 lbs of gear. Having said that i now have a greater respect for firefighters and i realize becoming a firefighter is a life altering job. The French have a history of making great documentary\\'s and that is what this is, a Great Documentary.....'\n",
            "Label 1\n"
          ],
          "name": "stdout"
        }
      ]
    },
    {
      "cell_type": "code",
      "metadata": {
        "colab": {
          "base_uri": "https://localhost:8080/"
        },
        "id": "AwmkgxJAWeGE",
        "outputId": "14827f43-5ce8-4051-e319-41596870c688"
      },
      "source": [
        "raw_val_ds = tf.keras.preprocessing.text_dataset_from_directory(\n",
        "    'aclImdb/train', \n",
        "    batch_size=batch_size, \n",
        "    validation_split=0.2, \n",
        "    subset='validation', #验证\n",
        "    seed=seed)"
      ],
      "execution_count": 39,
      "outputs": [
        {
          "output_type": "stream",
          "text": [
            "Found 25000 files belonging to 2 classes.\n",
            "Using 5000 files for validation.\n"
          ],
          "name": "stdout"
        }
      ]
    },
    {
      "cell_type": "code",
      "metadata": {
        "colab": {
          "base_uri": "https://localhost:8080/"
        },
        "id": "eiCvPF8WWyWx",
        "outputId": "5e3a31f5-8a18-48cf-cb02-534f8988bf2d"
      },
      "source": [
        "raw_test_ds = tf.keras.preprocessing.text_dataset_from_directory(\n",
        "    'aclImdb/test', \n",
        "    batch_size=batch_size)"
      ],
      "execution_count": 40,
      "outputs": [
        {
          "output_type": "stream",
          "text": [
            "Found 25000 files belonging to 2 classes.\n"
          ],
          "name": "stdout"
        }
      ]
    },
    {
      "cell_type": "markdown",
      "metadata": {
        "id": "-aYU2HLjXItB"
      },
      "source": [
        "数据预处理"
      ]
    },
    {
      "cell_type": "code",
      "metadata": {
        "id": "xnregmKmXIXx"
      },
      "source": [
        "def custom_standardization(input_data):\n",
        "  lowercase = tf.strings.lower(input_data)#转化为小写\n",
        "  stripped_html = tf.strings.regex_replace(lowercase, '<br />', ' ')#对字符串进行替换\n",
        "  #返回值为去掉标点符号的一句话\n",
        "  return tf.strings.regex_replace(stripped_html,\n",
        "               ##re.escape去除转义字符\n",
        "               #string.punctuation返回所有标点符号。                   \n",
        "               '[%s]' % re.escape(string.punctuation),\n",
        "                  ' ')"
      ],
      "execution_count": 41,
      "outputs": []
    },
    {
      "cell_type": "markdown",
      "metadata": {
        "id": "HGFJgyYJZSu3"
      },
      "source": [
        "#TextVectorization能够为我们执行预处理所需的一系列步骤，我们只需要定义相应的处理函数即可。\n",
        "```\n",
        "tf.keras.layers.experimental.preprocessing.TextVectorization(\n",
        "    max_tokens=None, \n",
        "    standardize=LOWER_AND_STRIP_PUNCTUATION,\n",
        "    split=SPLIT_ON_WHITESPACE, \n",
        "    ngrams=None, \n",
        "    output_mode=INT,\n",
        "    output_sequence_length=None, \n",
        "    pad_to_max_tokens=True, \n",
        "    vocabulary=None)\n",
        "```\n",
        "#参数\t  \n",
        "###max_tokens       \n",
        "####词汇表的最大值，若设置为None则表示不限制其大小；若词汇数大于最大值，则会将出现次数最少的词丢掉；注意，该最大值是包含了oov令牌数量的，所以最大词汇量是max_tokens-size(oov)的大小。\n",
        "---\n",
        "###standardize\t\n",
        "####标准化方式，默认是LOWER_AND_STRIP_PUNCTUATION，即转小写并去掉标点符号；可以自定义Callable函数。\n",
        "___\n",
        "###split\t\n",
        "####分词器，默认是按空格分词；可以自定义分词方式。\n",
        "---\n",
        "###ngrams\t\n",
        "####是否创建n-grams，参数可以是None或者任意整数，None代表不创建。\n",
        "___\n",
        "###output_mode\t\n",
        "####参数可以是\"int\"，“binary”，“count\"和\"tf-idf”；当设置为int时，输出为token索引列表；当设置为binary时，输出为one-hot编码；当设置为count时，类似binary，不同在于数组的每一位上表示词的统计个数；当设置为tf-idf时，类似binary，不同在于数组每一位上的个数表示该词在其他文本中出现的频次。\n",
        "___\n",
        "###output_sequence_length\t\n",
        "####只有output_mode设置为int时才有效；参数表示输出向量的维度，其维度会根据设置的长度进行填充或删减\n",
        "___\n",
        "###pad_to_max_tokens\n",
        "####只有output_mode设置为binary、count和tf-idf时才有效；如果设置为True，即使词汇表的token数少于max_tokens，输入的特征向量也会被填充至max_tokens的大小\n",
        "___\n",
        "\n",
        "###vocabulary\t\n",
        "####设置词汇表；参数可以是词汇list也可以是词汇表所在的文件路径；注意词汇表中的token不能重复，否则会报错\t     \n",
        "\n",
        "\n",
        "\n",
        "\n",
        "\n",
        "\n",
        "\n"
      ]
    },
    {
      "cell_type": "code",
      "metadata": {
        "id": "KvgJbFtmYv0Q"
      },
      "source": [
        "max_features = 10000\n",
        "sequence_length = 250\n",
        "\n",
        "vectorize_layer = TextVectorization(\n",
        "    standardize=custom_standardization,#转小写并去掉标点符号\n",
        "    max_tokens=max_features,#词汇表的最大值\n",
        "    output_mode='int',#设置为int时，输出为token索引列表\n",
        "    #只有output_mode设置为int时才有效；参数表示输出向量的维度，其维度会根据设置的长度进行填充或删减\n",
        "    output_sequence_length=sequence_length)"
      ],
      "execution_count": 42,
      "outputs": []
    },
    {
      "cell_type": "markdown",
      "metadata": {
        "id": "LSKGAAenjlkV"
      },
      "source": [
        "没看明白这个map用来干啥的https://zhuanlan.zhihu.com/p/30751039"
      ]
    },
    {
      "cell_type": "code",
      "metadata": {
        "id": "rwiGrbX9coz9"
      },
      "source": [
        "# Make a text-only dataset (without labels), then call adapt\n",
        "#制作纯文本数据集（无标签），然后调用adapt\n",
        "#map接收一个函数，Dataset中的每个元素都会被当作这个函数的输入，\n",
        "#并将函数返回值作为新的Dataset\n",
        "\n",
        "train_text = raw_train_ds.map(lambda x, y: x)\n",
        "\n",
        "#adapt以使预处理层的状态适合数据集。这将导致模型构建字符串到整数的索引。\n",
        "vectorize_layer.adapt(train_text)"
      ],
      "execution_count": 43,
      "outputs": []
    },
    {
      "cell_type": "code",
      "metadata": {
        "id": "oYIkQCQq_Tpq"
      },
      "source": [
        "def vectorize_text(text, label):\n",
        "  text = tf.expand_dims(text, -1)\n",
        "  return vectorize_layer(text), label"
      ],
      "execution_count": 44,
      "outputs": []
    },
    {
      "cell_type": "code",
      "metadata": {
        "id": "lmvk5dEc9hmU"
      },
      "source": [
        "train_ds = raw_train_ds.map(vectorize_text)\n",
        "val_ds = raw_val_ds.map(vectorize_text)\n",
        "test_ds = raw_test_ds.map(vectorize_text)"
      ],
      "execution_count": 45,
      "outputs": []
    },
    {
      "cell_type": "markdown",
      "metadata": {
        "id": "QOEzO-Pd_6cR"
      },
      "source": [
        "配置数据集以提高性能\n",
        "这是加载数据时应该使用的两种重要方法，以确保 I/O 不会阻塞。\n",
        "\n",
        ".cache()从磁盘加载数据后，将数据保存在内存中。这将确保数据集在训练模型时不会成为瓶颈。如果您的数据集太大而无法放入内存，您也可以使用此方法创建一个高性能的磁盘缓存，这比许多小文件的读取效率更高。\n",
        "\n",
        ".prefetch() 在训练时重叠数据预处理和模型执行。\n",
        "\n",
        "您可以在数据性能指南 中了解有关这两种方法以及如何将数据缓存到磁盘的更多信息。"
      ]
    },
    {
      "cell_type": "code",
      "metadata": {
        "id": "LwUJfCVt_s3p"
      },
      "source": [
        "#配置数据集\n",
        "AUTOTUNE = tf.data.AUTOTUNE\n",
        "\n",
        "train_ds = train_ds.cache().prefetch(buffer_size=AUTOTUNE)\n",
        "val_ds = val_ds.cache().prefetch(buffer_size=AUTOTUNE)\n",
        "test_ds = test_ds.cache().prefetch(buffer_size=AUTOTUNE)"
      ],
      "execution_count": 46,
      "outputs": []
    },
    {
      "cell_type": "markdown",
      "metadata": {
        "id": "9SkUmMdrAGAx"
      },
      "source": [
        "数据预处理完成，接下来搭建网络模型"
      ]
    },
    {
      "cell_type": "code",
      "metadata": {
        "id": "hCaivcmuCal-"
      },
      "source": [
        "#keras.layers.Embedding(input_dim, output_dim, input_length)\n",
        "#input_dim：这是文本数据中词汇的取值可能数。也就是片段的可能个数。\n",
        "#例如，如果您的数据是整数编码为0-9之间的值，那么词汇的大小就是10个单词；\n",
        "#output_dim：这是嵌入单词的向量空间的大小。它为每个单词定义了这个层的输出向量的大小。\n",
        "#例如，它可能是32或100甚至更大，可以视为具体问题的超参数；\n",
        "#input_length：这是输入序列的长度，就像您为Keras模型的任何输入层所定义的一样，也就是一次输入带有的词汇个数。\n",
        "#例如，如果您的所有输入文档都由1000个字组成，那么input_length就是1000\n",
        "###embedding理解见博客https://www.jianshu.com/p/fdf52856bd1c"
      ],
      "execution_count": 47,
      "outputs": []
    },
    {
      "cell_type": "code",
      "metadata": {
        "colab": {
          "base_uri": "https://localhost:8080/"
        },
        "id": "MH8qiutuAE64",
        "outputId": "9726fc47-c482-412d-a08d-f019df9a4273"
      },
      "source": [
        "embedding_dim = 16\n",
        "model = tf.keras.Sequential([\n",
        "\n",
        "  layers.Embedding(max_features + 1, embedding_dim),\n",
        "  layers.Dropout(0.2),#随机删除一些神经元，防止过拟合\n",
        "  layers.GlobalAveragePooling1D(),#池化操作，层通过对序列维度求平均，\n",
        "  #为每个示例返回一个固定长度的输出向量。这允许模型以最简单的方式处理可变长度的输入\n",
        "  layers.Dropout(0.2),\n",
        "  layers.Dense(1)])#全连接层\n",
        "\n",
        "model.summary()#打印模型总结"
      ],
      "execution_count": 48,
      "outputs": [
        {
          "output_type": "stream",
          "text": [
            "Model: \"sequential_2\"\n",
            "_________________________________________________________________\n",
            "Layer (type)                 Output Shape              Param #   \n",
            "=================================================================\n",
            "embedding_2 (Embedding)      (None, None, 16)          160016    \n",
            "_________________________________________________________________\n",
            "dropout_4 (Dropout)          (None, None, 16)          0         \n",
            "_________________________________________________________________\n",
            "global_average_pooling1d_2 ( (None, 16)                0         \n",
            "_________________________________________________________________\n",
            "dropout_5 (Dropout)          (None, 16)                0         \n",
            "_________________________________________________________________\n",
            "dense_2 (Dense)              (None, 1)                 17        \n",
            "=================================================================\n",
            "Total params: 160,033\n",
            "Trainable params: 160,033\n",
            "Non-trainable params: 0\n",
            "_________________________________________________________________\n"
          ],
          "name": "stdout"
        }
      ]
    },
    {
      "cell_type": "markdown",
      "metadata": {
        "id": "x-eT08VyJ8OX"
      },
      "source": [
        "这是一个二元分类问题并且模型输出概率（具有 sigmoid 激活的单单元层），因此您将使用losses.BinaryCrossentropy损失函数。"
      ]
    },
    {
      "cell_type": "code",
      "metadata": {
        "id": "ycnCMTLIJhXC"
      },
      "source": [
        "model.compile(loss=losses.BinaryCrossentropy(from_logits=True),\n",
        "              optimizer='adam',\n",
        "              metrics=tf.metrics.BinaryAccuracy(threshold=0.0))"
      ],
      "execution_count": 49,
      "outputs": []
    },
    {
      "cell_type": "markdown",
      "metadata": {
        "id": "Art7dwH_KD2A"
      },
      "source": [
        "训练模型"
      ]
    },
    {
      "cell_type": "code",
      "metadata": {
        "colab": {
          "base_uri": "https://localhost:8080/"
        },
        "id": "Ok-LpPz5KAiX",
        "outputId": "e31ca72b-ff3b-4920-9dca-57bd4f5a08b1"
      },
      "source": [
        "epochs = 10\n",
        "history = model.fit(\n",
        "    train_ds,#模型输入\n",
        "    validation_data=val_ds,#标签\n",
        "    epochs=epochs)"
      ],
      "execution_count": 50,
      "outputs": [
        {
          "output_type": "stream",
          "text": [
            "Epoch 1/10\n",
            "625/625 [==============================] - 11s 16ms/step - loss: 0.6626 - binary_accuracy: 0.6873 - val_loss: 0.6118 - val_binary_accuracy: 0.7728\n",
            "Epoch 2/10\n",
            "625/625 [==============================] - 4s 7ms/step - loss: 0.5460 - binary_accuracy: 0.7971 - val_loss: 0.4958 - val_binary_accuracy: 0.8182\n",
            "Epoch 3/10\n",
            "625/625 [==============================] - 4s 6ms/step - loss: 0.4420 - binary_accuracy: 0.8454 - val_loss: 0.4183 - val_binary_accuracy: 0.8478\n",
            "Epoch 4/10\n",
            "625/625 [==============================] - 4s 6ms/step - loss: 0.3759 - binary_accuracy: 0.8665 - val_loss: 0.3728 - val_binary_accuracy: 0.8586\n",
            "Epoch 5/10\n",
            "625/625 [==============================] - 4s 6ms/step - loss: 0.3325 - binary_accuracy: 0.8798 - val_loss: 0.3446 - val_binary_accuracy: 0.8664\n",
            "Epoch 6/10\n",
            "625/625 [==============================] - 4s 6ms/step - loss: 0.3027 - binary_accuracy: 0.8896 - val_loss: 0.3257 - val_binary_accuracy: 0.8700\n",
            "Epoch 7/10\n",
            "625/625 [==============================] - 4s 7ms/step - loss: 0.2791 - binary_accuracy: 0.8997 - val_loss: 0.3127 - val_binary_accuracy: 0.8744\n",
            "Epoch 8/10\n",
            "625/625 [==============================] - 4s 7ms/step - loss: 0.2603 - binary_accuracy: 0.9067 - val_loss: 0.3034 - val_binary_accuracy: 0.8774\n",
            "Epoch 9/10\n",
            "625/625 [==============================] - 4s 6ms/step - loss: 0.2436 - binary_accuracy: 0.9121 - val_loss: 0.2969 - val_binary_accuracy: 0.8776\n",
            "Epoch 10/10\n",
            "625/625 [==============================] - 4s 6ms/step - loss: 0.2302 - binary_accuracy: 0.9189 - val_loss: 0.2926 - val_binary_accuracy: 0.8782\n"
          ],
          "name": "stdout"
        }
      ]
    },
    {
      "cell_type": "code",
      "metadata": {
        "colab": {
          "base_uri": "https://localhost:8080/"
        },
        "id": "KoyZYmqLLA-W",
        "outputId": "519436a0-3e3d-44a6-856f-1954aa75a8d8"
      },
      "source": [
        "loss, accuracy = model.evaluate(test_ds)#模型评估\n",
        "\n",
        "print(\"Loss: \", loss)\n",
        "print(\"Accuracy: \", accuracy)"
      ],
      "execution_count": 51,
      "outputs": [
        {
          "output_type": "stream",
          "text": [
            "782/782 [==============================] - 7s 9ms/step - loss: 0.3115 - binary_accuracy: 0.8737\n",
            "Loss:  0.3115110695362091\n",
            "Accuracy:  0.8737199902534485\n"
          ],
          "name": "stdout"
        }
      ]
    },
    {
      "cell_type": "markdown",
      "metadata": {
        "id": "ffXMOMEsLOnv"
      },
      "source": [
        "随着时间的推移创建准确性和损失图\n",
        "model.fit()返回一个History对象，其中包含一个字典，其中包含训练期间发生的所有事情："
      ]
    },
    {
      "cell_type": "code",
      "metadata": {
        "colab": {
          "base_uri": "https://localhost:8080/"
        },
        "id": "iziq4amPLOXd",
        "outputId": "c4b3e52d-e0a2-4177-d457-6ba418bfa8b8"
      },
      "source": [
        "history_dict = history.history\n",
        "history_dict.keys()"
      ],
      "execution_count": 52,
      "outputs": [
        {
          "output_type": "execute_result",
          "data": {
            "text/plain": [
              "dict_keys(['loss', 'binary_accuracy', 'val_loss', 'val_binary_accuracy'])"
            ]
          },
          "metadata": {},
          "execution_count": 52
        }
      ]
    },
    {
      "cell_type": "markdown",
      "metadata": {
        "id": "TMsBCia_LV4e"
      },
      "source": [
        "##可视化\n",
        "有四个条目：一个用于训练和验证期间每个受监控的指标。您可以使用这些来绘制训练和验证损失以进行比较，以及训练和验证的准确性："
      ]
    },
    {
      "cell_type": "code",
      "metadata": {
        "colab": {
          "base_uri": "https://localhost:8080/",
          "height": 295
        },
        "id": "kaLs9liTLXU1",
        "outputId": "51cc61f4-18ac-4974-9e7c-f2701703087d"
      },
      "source": [
        "acc = history_dict['binary_accuracy']\n",
        "val_acc = history_dict['val_binary_accuracy']\n",
        "loss = history_dict['loss']\n",
        "val_loss = history_dict['val_loss']\n",
        "\n",
        "epochs = range(1, len(acc) + 1)\n",
        "\n",
        "# \"bo\" is for \"blue dot\"\n",
        "plt.plot(epochs, loss, 'bo', label='Training loss')#x轴，y轴，颜色，标签\n",
        "# b is for \"solid blue line\"\n",
        "plt.plot(epochs, val_loss, 'b', label='Validation loss')\n",
        "plt.title('Training and validation loss')\n",
        "plt.xlabel('Epochs')#x轴标签\n",
        "plt.ylabel('Loss')#y轴标签\n",
        "plt.legend()\n",
        "\n",
        "plt.show()"
      ],
      "execution_count": 53,
      "outputs": [
        {
          "output_type": "display_data",
          "data": {
            "image/png": "[encoded data removed]",
            "text/plain": [
              "<Figure size 432x288 with 1 Axes>"
            ]
          },
          "metadata": {
            "needs_background": "light"
          }
        }
      ]
    },
    {
      "cell_type": "code",
      "metadata": {
        "colab": {
          "base_uri": "https://localhost:8080/",
          "height": 295
        },
        "id": "gDR9Ec48Lq6f",
        "outputId": "453db796-f17b-4803-dff6-8105ca0d5efb"
      },
      "source": [
        "plt.plot(epochs, acc, 'bo', label='Training acc')\n",
        "plt.plot(epochs, val_acc, 'b', label='Validation acc')\n",
        "plt.title('Training and validation accuracy')\n",
        "plt.xlabel('Epochs')\n",
        "plt.ylabel('Accuracy')\n",
        "plt.legend(loc='lower right')\n",
        "\n",
        "plt.show()"
      ],
      "execution_count": 54,
      "outputs": [
        {
          "output_type": "display_data",
          "data": {
            "image/png": "[encoded data removed]",
            "text/plain": [
              "<Figure size 432x288 with 1 Axes>"
            ]
          },
          "metadata": {
            "needs_background": "light"
          }
        }
      ]
    },
    {
      "cell_type": "markdown",
      "metadata": {
        "id": "79IUV8KJNu50"
      },
      "source": [
        "导出模型\n",
        "在上面的代码中，您TextVectorization在将文本输入模型之前将图层应用于数据集。如果您想让您的模型能够处理原始字符串（例如，为了简化部署），您可以TextVectorization在模型中包含该层。为此，您可以使用刚刚训练的权重创建一个新模型。"
      ]
    },
    {
      "cell_type": "code",
      "metadata": {
        "colab": {
          "base_uri": "https://localhost:8080/"
        },
        "id": "dBsiwXcRNwID",
        "outputId": "10299491-c326-4b86-8aa2-8c69c3da5b85"
      },
      "source": [
        "export_model = tf.keras.Sequential([\n",
        "  vectorize_layer,#处理层\n",
        "  model,#训练好的模型\n",
        "  layers.Activation('sigmoid')\n",
        "])\n",
        "\n",
        "export_model.compile(\n",
        "    loss=losses.BinaryCrossentropy(from_logits=False), optimizer=\"adam\", metrics=['accuracy']\n",
        ")\n",
        "\n",
        "# Test it with `raw_test_ds`, which yields raw strings\n",
        "loss, accuracy = export_model.evaluate(raw_test_ds)\n",
        "print(accuracy)"
      ],
      "execution_count": 55,
      "outputs": [
        {
          "output_type": "stream",
          "text": [
            "782/782 [==============================] - 8s 9ms/step - loss: 0.3115 - accuracy: 0.8737\n",
            "0.8737199902534485\n"
          ],
          "name": "stdout"
        }
      ]
    },
    {
      "cell_type": "code",
      "metadata": {
        "colab": {
          "base_uri": "https://localhost:8080/"
        },
        "id": "LmOmJzJbP3AP",
        "outputId": "e37c1366-d3d7-4e08-ec59-63c35b1dde0d"
      },
      "source": [
        "#预测新的实例\n",
        "examples = [\n",
        "  \"great great great great great great!\",\n",
        "  \"The movie was okay.\",\n",
        "  \"The movie was terrible...\"\n",
        "]\n",
        "\n",
        "export_model.predict(examples)"
      ],
      "execution_count": 61,
      "outputs": [
        {
          "output_type": "execute_result",
          "data": {
            "text/plain": [
              "array([[0.95154035],\n",
              "       [0.357604  ],\n",
              "       [0.36342096]], dtype=float32)"
            ]
          },
          "metadata": {},
          "execution_count": 61
        }
      ]
    }
  ]
}